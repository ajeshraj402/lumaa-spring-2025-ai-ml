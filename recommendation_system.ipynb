{
 "cells": [
  {
   "cell_type": "markdown",
   "metadata": {},
   "source": [
    "AI/Machine Learning Intern Challenge: Simple Content-Based Recommendation"
   ]
  },
  {
   "cell_type": "code",
   "execution_count": 21,
   "metadata": {},
   "outputs": [],
   "source": [
    "import pandas as pd\n",
    "import numpy as np\n",
    "import seaborn as sns\n",
    "from sklearn.feature_extraction.text import TfidfVectorizer\n",
    "from sklearn.metrics.pairwise import cosine_similarity\n"
   ]
  },
  {
   "cell_type": "code",
   "execution_count": 22,
   "metadata": {},
   "outputs": [
    {
     "name": "stdout",
     "output_type": "stream",
     "text": [
      "Dataset head:\n",
      "                              Title  \\\n",
      "0            Kansas Saloon Smashers   \n",
      "1     Love by the Light of the Moon   \n",
      "2           The Martyred Presidents   \n",
      "3  Terrible Teddy, the Grizzly King   \n",
      "4            Jack and the Beanstalk   \n",
      "\n",
      "                                                Plot  \n",
      "0  A bartender is working at a saloon, serving dr...  \n",
      "1  The moon, painted with a smiling face hangs ov...  \n",
      "2  The film, just over a minute long, is composed...  \n",
      "3  Lasting just 61 seconds and consisting of two ...  \n",
      "4  The earliest known adaptation of the classic f...  \n"
     ]
    }
   ],
   "source": [
    "# Loading the datset and setting the sample size and selecting the columns\n",
    "def load_data(filepath, sample_size=0):\n",
    "    df = pd.read_csv(\"wiki_movie_plots_deduped.csv\")\n",
    "    df = df[['Title', 'Plot']].dropna()\n",
    "    if sample_size > 0 and sample_size < len(df):\n",
    "        df = df.sample(n=sample_size, random_state=42)\n",
    "    df.reset_index(drop=True, inplace=True)\n",
    "    print(\"Dataset head:\")\n",
    "    print(df.head())\n",
    "    return df\n",
    "\n",
    "filepath = 'wiki_movie_plots_deduped.csv'\n",
    "df = load_data(filepath, sample_size=0)\n"
   ]
  },
  {
   "cell_type": "code",
   "execution_count": 23,
   "metadata": {},
   "outputs": [
    {
     "name": "stdout",
     "output_type": "stream",
     "text": [
      "TF-IDF vectors Matrix shape: (34886, 133554)\n"
     ]
    }
   ],
   "source": [
    "# Building the TF-IDF vectors\n",
    "def build_tfidf_vectors(text_series):\n",
    "    vectorizer = TfidfVectorizer(stop_words='english')\n",
    "    tfidf_matrix = vectorizer.fit_transform(text_series)\n",
    "    return vectorizer, tfidf_matrix\n",
    "\n",
    "# Build vectors\n",
    "vectorizer, tfidf_matrix = build_tfidf_vectors(df['Plot'])\n",
    "print(\"TF-IDF vectors Matrix shape:\", tfidf_matrix.shape)"
   ]
  },
  {
   "cell_type": "code",
   "execution_count": 24,
   "metadata": {},
   "outputs": [
    {
     "name": "stdout",
     "output_type": "stream",
     "text": [
      "Sample Query: I like action movies set in space.\n",
      "\n",
      " Top Recommended Movies with Similarity Scores:\n",
      "                                                   Title    Score\n",
      "            Bodacious Space Pirates: Abyss of Hyperspace 0.243816\n",
      "                                         Always Together 0.241054\n",
      "                                                  Native 0.213520\n",
      "Crayon Shin-chan: The Storm Called: Operation Golden Spy 0.192285\n",
      "                                        Space Master X-7 0.184191\n"
     ]
    }
   ],
   "source": [
    "# Computing Cosine Similarity and recommending movies\n",
    "def recommend_movies(query, df, top_n=5):\n",
    "    # Building TF-IDF vectors to plot movies\n",
    "    vectorizer, tfidf_matrix = build_tfidf_vectors(df['Plot'])\n",
    "    \n",
    "    # Transforming the user query into the TF-IDF space\n",
    "    query_vec = vectorizer.transform([query])\n",
    "    \n",
    "    # Computing cosine similarity between the query vector and each movie\n",
    "    similarities = cosine_similarity(query_vec, tfidf_matrix).flatten()\n",
    "    \n",
    "    # Sorting Movies in descending order of similarity scores\n",
    "    top_indices = similarities.argsort()[-top_n:][::-1]\n",
    "    \n",
    "    # Creating a df with the recommended movie Titles and their similarity scores\n",
    "    recommendations = df.iloc[top_indices][['Title']].copy()\n",
    "    recommendations['Score'] = similarities[top_indices]\n",
    "    \n",
    "    return recommendations\n",
    "\n",
    "# Testing the recommendation with a sample query\n",
    "sample_query = \"I like action movies set in space.\"\n",
    "print(\"Sample Query:\", sample_query)\n",
    "top_movies = recommend_movies(sample_query, df, top_n=5)\n",
    "print(\"\\n Top Recommended Movies with Similarity Scores:\")\n",
    "print(top_movies.to_string(index=False))"
   ]
  }
 ],
 "metadata": {
  "kernelspec": {
   "display_name": "Python 3",
   "language": "python",
   "name": "python3"
  },
  "language_info": {
   "codemirror_mode": {
    "name": "ipython",
    "version": 3
   },
   "file_extension": ".py",
   "mimetype": "text/x-python",
   "name": "python",
   "nbconvert_exporter": "python",
   "pygments_lexer": "ipython3",
   "version": "3.13.1"
  }
 },
 "nbformat": 4,
 "nbformat_minor": 2
}
